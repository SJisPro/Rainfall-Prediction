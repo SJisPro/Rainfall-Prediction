{
 "cells": [
  {
   "cell_type": "code",
   "execution_count": null,
   "metadata": {},
   "outputs": [],
   "source": [
    "!pip install imblearn"
   ]
  },
  {
   "cell_type": "code",
   "execution_count": 3,
   "metadata": {
    "id": "3CHv5rrGiN2h"
   },
   "outputs": [
    {
     "ename": "ModuleNotFoundError",
     "evalue": "No module named 'imblearn'",
     "output_type": "error",
     "traceback": [
      "\u001b[1;31m---------------------------------------------------------------------------\u001b[0m",
      "\u001b[1;31mModuleNotFoundError\u001b[0m                       Traceback (most recent call last)",
      "Cell \u001b[1;32mIn[3], line 12\u001b[0m\n\u001b[0;32m     10\u001b[0m \u001b[38;5;28;01mfrom\u001b[39;00m\u001b[38;5;250m \u001b[39m\u001b[38;5;21;01mxgboost\u001b[39;00m\u001b[38;5;250m \u001b[39m\u001b[38;5;28;01mimport\u001b[39;00m XGBClassifier\n\u001b[0;32m     11\u001b[0m \u001b[38;5;28;01mfrom\u001b[39;00m\u001b[38;5;250m \u001b[39m\u001b[38;5;21;01msklearn\u001b[39;00m\u001b[38;5;21;01m.\u001b[39;00m\u001b[38;5;21;01mlinear_model\u001b[39;00m\u001b[38;5;250m \u001b[39m\u001b[38;5;28;01mimport\u001b[39;00m LogisticRegression\n\u001b[1;32m---> 12\u001b[0m \u001b[38;5;28;01mfrom\u001b[39;00m\u001b[38;5;250m \u001b[39m\u001b[38;5;21;01mimblearn\u001b[39;00m\u001b[38;5;21;01m.\u001b[39;00m\u001b[38;5;21;01mover_sampling\u001b[39;00m\u001b[38;5;250m \u001b[39m\u001b[38;5;28;01mimport\u001b[39;00m RandomOverSampler\n\u001b[0;32m     14\u001b[0m \u001b[38;5;28;01mimport\u001b[39;00m\u001b[38;5;250m \u001b[39m\u001b[38;5;21;01mwarnings\u001b[39;00m\n\u001b[0;32m     15\u001b[0m warnings\u001b[38;5;241m.\u001b[39mfilterwarnings(\u001b[38;5;124m'\u001b[39m\u001b[38;5;124mignore\u001b[39m\u001b[38;5;124m'\u001b[39m)\n",
      "\u001b[1;31mModuleNotFoundError\u001b[0m: No module named 'imblearn'"
     ]
    }
   ],
   "source": [
    "import numpy as np\n",
    "import pandas as pd\n",
    "import matplotlib.pyplot as plt\n",
    "import seaborn as sb\n",
    "\n",
    "from sklearn.model_selection import train_test_split\n",
    "from sklearn.preprocessing import StandardScaler\n",
    "from sklearn import metrics\n",
    "from sklearn.svm import SVC\n",
    "from xgboost import XGBClassifier\n",
    "from sklearn.linear_model import LogisticRegression\n",
    "from imblearn.over_sampling import RandomOverSampler\n",
    "\n",
    "import warnings\n",
    "warnings.filterwarnings('ignore')\n"
   ]
  },
  {
   "cell_type": "code",
   "execution_count": null,
   "metadata": {
    "colab": {
     "base_uri": "https://localhost:8080/"
    },
    "id": "a5BsVha9iRPV",
    "outputId": "31743eb1-e481-4d6d-ef7a-d851bee90d1b"
   },
   "outputs": [],
   "source": [
    "df = pd.read_csv('Rainfall.csv')\n",
    "df.head()"
   ]
  },
  {
   "cell_type": "code",
   "execution_count": null,
   "metadata": {
    "colab": {
     "base_uri": "https://localhost:8080/"
    },
    "id": "-Y9vciKaiSn4",
    "outputId": "18abd5ba-af2d-44f2-e24e-afd63fd64714"
   },
   "outputs": [],
   "source": [
    "df.shape"
   ]
  },
  {
   "cell_type": "code",
   "execution_count": null,
   "metadata": {
    "colab": {
     "base_uri": "https://localhost:8080/"
    },
    "id": "poTflnkziU0q",
    "outputId": "5eebae07-3c4e-4fe8-b266-7b1a27a4992b"
   },
   "outputs": [],
   "source": [
    "df.info()"
   ]
  },
  {
   "cell_type": "code",
   "execution_count": null,
   "metadata": {
    "colab": {
     "base_uri": "https://localhost:8080/",
     "height": 394
    },
    "id": "ckunOzxZiWDT",
    "outputId": "c51f2f5f-fa49-4c9e-c0b1-147adc71c56f"
   },
   "outputs": [],
   "source": [
    "df.describe().T"
   ]
  },
  {
   "cell_type": "code",
   "execution_count": null,
   "metadata": {
    "colab": {
     "base_uri": "https://localhost:8080/",
     "height": 460
    },
    "id": "KmhnQTUriW-o",
    "outputId": "fca9a15a-2cac-440c-c596-2646e9362ceb"
   },
   "outputs": [],
   "source": [
    "df.isnull().sum()"
   ]
  },
  {
   "cell_type": "code",
   "execution_count": null,
   "metadata": {
    "colab": {
     "base_uri": "https://localhost:8080/"
    },
    "id": "3qlluhgtiX-o",
    "outputId": "3e10382b-e707-4a07-a457-756c1c5a02eb"
   },
   "outputs": [],
   "source": [
    "df.columns"
   ]
  },
  {
   "cell_type": "code",
   "execution_count": null,
   "metadata": {
    "colab": {
     "base_uri": "https://localhost:8080/"
    },
    "id": "1eY1BaxTiY8O",
    "outputId": "65125e4f-d660-4118-e4ed-16030347e2ff"
   },
   "outputs": [],
   "source": [
    "df.rename(str.strip,\n",
    "          axis='columns',\n",
    "          inplace=True)\n",
    "\n",
    "df.columns"
   ]
  },
  {
   "cell_type": "code",
   "execution_count": null,
   "metadata": {
    "colab": {
     "base_uri": "https://localhost:8080/"
    },
    "id": "IYg1SqZHiZ_K",
    "outputId": "007846ce-b14e-4f7e-a001-6c301656f6ad"
   },
   "outputs": [],
   "source": [
    "for col in df.columns:\n",
    "\n",
    "  # Checking if the column contains\n",
    "  # any null values\n",
    "  if df[col].isnull().sum() > 0:\n",
    "    val = df[col].mean()\n",
    "    df[col] = df[col].fillna(val)\n",
    "\n",
    "df.isnull().sum().sum()"
   ]
  },
  {
   "cell_type": "code",
   "execution_count": null,
   "metadata": {
    "colab": {
     "base_uri": "https://localhost:8080/",
     "height": 406
    },
    "id": "ziJpyf0iibJI",
    "outputId": "b9136ef8-e4de-49cb-ecae-1f274ac6a452"
   },
   "outputs": [],
   "source": [
    "plt.pie(df['rainfall'].value_counts().values,\n",
    "        labels = df['rainfall'].value_counts().index,\n",
    "        autopct='%1.1f%%')\n",
    "plt.show()"
   ]
  },
  {
   "cell_type": "code",
   "execution_count": null,
   "metadata": {
    "colab": {
     "base_uri": "https://localhost:8080/",
     "height": 163
    },
    "id": "fwLpRFWNicJ4",
    "outputId": "3be0b802-6a60-4e9a-b85c-fd634b02cb12"
   },
   "outputs": [],
   "source": [
    "df.groupby('rainfall').mean()"
   ]
  },
  {
   "cell_type": "code",
   "execution_count": null,
   "metadata": {
    "colab": {
     "base_uri": "https://localhost:8080/"
    },
    "id": "Dbfo1L8QidGs",
    "outputId": "7eea132f-f915-4684-f6f2-bab37717251d"
   },
   "outputs": [],
   "source": [
    "features = list(df.select_dtypes(include = np.number).columns)\n",
    "features.remove('day')\n",
    "print(features)"
   ]
  },
  {
   "cell_type": "code",
   "execution_count": null,
   "metadata": {
    "colab": {
     "base_uri": "https://localhost:8080/"
    },
    "id": "u8A1pSDoieFs",
    "outputId": "90093b2f-f145-4993-dc00-9259479b16ca"
   },
   "outputs": [],
   "source": [
    "plt.subplots(figsize=(15,8))\n",
    "\n",
    "for i, col in enumerate(features):\n",
    "  plt.subplot(3,4, i + 1)\n",
    "  sb.distplot(df[col])\n",
    "plt.tight_layout()\n",
    "plt.show()"
   ]
  },
  {
   "cell_type": "code",
   "execution_count": null,
   "metadata": {
    "colab": {
     "base_uri": "https://localhost:8080/"
    },
    "id": "sDJpUUZDifWK",
    "outputId": "ef3e39c7-55f6-4419-91c3-3ee30dabf987"
   },
   "outputs": [],
   "source": [
    "plt.subplots(figsize=(15,8))\n",
    "\n",
    "for i, col in enumerate(features):\n",
    "  plt.subplot(3,4, i + 1)\n",
    "  sb.boxplot(df[col])\n",
    "plt.tight_layout()\n",
    "plt.show()"
   ]
  },
  {
   "cell_type": "code",
   "execution_count": null,
   "metadata": {
    "id": "P53omedKijYd"
   },
   "outputs": [],
   "source": [
    "df.replace({'yes':1, 'no':0}, inplace=True)"
   ]
  },
  {
   "cell_type": "code",
   "execution_count": null,
   "metadata": {
    "colab": {
     "base_uri": "https://localhost:8080/",
     "height": 870
    },
    "id": "L5Y6T8PvildD",
    "outputId": "0e184f54-1233-4953-af85-c4d795ec320d"
   },
   "outputs": [],
   "source": [
    "plt.figure(figsize=(10,10))\n",
    "sb.heatmap(df.corr() > 0.8,\n",
    "           annot=True,\n",
    "           cbar=False)\n",
    "plt.show()"
   ]
  },
  {
   "cell_type": "code",
   "execution_count": null,
   "metadata": {
    "id": "qC1QU5LYioYE"
   },
   "outputs": [],
   "source": [
    "df.drop(['maxtemp', 'mintemp'], axis=1, inplace=True)"
   ]
  },
  {
   "cell_type": "code",
   "execution_count": null,
   "metadata": {
    "id": "-asugljTiphV"
   },
   "outputs": [],
   "source": [
    "features = df.drop(['day', 'rainfall'], axis=1)\n",
    "target = df.rainfall"
   ]
  },
  {
   "cell_type": "code",
   "execution_count": null,
   "metadata": {
    "id": "acahjL1eiqZ1"
   },
   "outputs": [],
   "source": [
    "X_train, X_val, Y_train, Y_val = train_test_split(features,\n",
    "                                      target,\n",
    "                                      test_size=0.2,\n",
    "                                      stratify=target,\n",
    "                                      random_state=2)\n",
    "\n",
    "# As the data was highly imbalanced we will\n",
    "# balance it by adding repetitive rows of minority class.\n",
    "ros = RandomOverSampler(sampling_strategy='minority',\n",
    "                        random_state=22)\n",
    "X, Y = ros.fit_resample(X_train, Y_train)"
   ]
  },
  {
   "cell_type": "code",
   "execution_count": null,
   "metadata": {
    "id": "Jj_Mi8tJisqB"
   },
   "outputs": [],
   "source": [
    "# Normalizing the features for stable and fast training.\n",
    "scaler = StandardScaler()\n",
    "X = scaler.fit_transform(X)\n",
    "X_val = scaler.transform(X_val)"
   ]
  },
  {
   "cell_type": "code",
   "execution_count": null,
   "metadata": {
    "colab": {
     "base_uri": "https://localhost:8080/"
    },
    "id": "UYNkHkgKit0m",
    "outputId": "515aeb29-51a1-46a4-e1db-132091a0ba6f"
   },
   "outputs": [],
   "source": [
    "models = [LogisticRegression(), XGBClassifier(), SVC(kernel='rbf', probability=True)]\n",
    "\n",
    "for i in range(3):\n",
    "  models[i].fit(X, Y)\n",
    "\n",
    "  print(f'{models[i]} : ')\n",
    "\n",
    "  train_preds = models[i].predict_proba(X)\n",
    "  print('Training Accuracy : ', metrics.roc_auc_score(Y, train_preds[:,1]))\n",
    "\n",
    "  val_preds = models[i].predict_proba(X_val)\n",
    "  print('Validation Accuracy : ', metrics.roc_auc_score(Y_val, val_preds[:,1]))\n",
    "  print()"
   ]
  },
  {
   "cell_type": "code",
   "execution_count": null,
   "metadata": {
    "colab": {
     "base_uri": "https://localhost:8080/",
     "height": 449
    },
    "id": "IAxMO6t5jBmW",
    "outputId": "38092572-57af-41a0-8071-296433a5f26d"
   },
   "outputs": [],
   "source": [
    "import matplotlib.pyplot as plt\n",
    "from sklearn.metrics import ConfusionMatrixDisplay\n",
    "from sklearn import metrics\n",
    "\n",
    "# Use ConfusionMatrixDisplay.from_estimator instead of plot_confusion_matrix\n",
    "ConfusionMatrixDisplay.from_estimator(models[2], X_val, Y_val)\n",
    "plt.show()"
   ]
  },
  {
   "cell_type": "code",
   "execution_count": null,
   "metadata": {
    "colab": {
     "base_uri": "https://localhost:8080/"
    },
    "id": "A72EMuJviwOn",
    "outputId": "92bd607b-6b36-419b-f214-d99d0c3e65af"
   },
   "outputs": [],
   "source": [
    "print(metrics.classification_report(Y_val,\n",
    "                                    models[2].predict(X_val)))"
   ]
  }
 ],
 "metadata": {
  "colab": {
   "provenance": []
  },
  "kernelspec": {
   "display_name": "Python 3 (ipykernel)",
   "language": "python",
   "name": "python3"
  },
  "language_info": {
   "codemirror_mode": {
    "name": "ipython",
    "version": 3
   },
   "file_extension": ".py",
   "mimetype": "text/x-python",
   "name": "python",
   "nbconvert_exporter": "python",
   "pygments_lexer": "ipython3",
   "version": "3.13.1"
  }
 },
 "nbformat": 4,
 "nbformat_minor": 4
}
